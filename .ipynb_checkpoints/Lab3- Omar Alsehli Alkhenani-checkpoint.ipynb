{
 "cells": [
  {
   "cell_type": "markdown",
   "id": "ab75667d",
   "metadata": {},
   "source": [
    "# Lab3"
   ]
  },
  {
   "cell_type": "code",
   "execution_count": null,
   "id": "22854afa",
   "metadata": {},
   "outputs": [],
   "source": [
    "# first question\n",
    "\n",
    "\n",
    "for num in range(45, 210):\n",
    "    if num == 100:\n",
    "        continue\n",
    "    if num == 205:\n",
    "        break\n",
    "    print(num)\n",
    "    \n",
    "    \n",
    "# second question\n",
    "\n",
    "while(True):\n",
    "    u= int(input(\"what is the product of 7*24: \"))\n",
    "    if  u == 168:\n",
    "        print(\"Your answer this question correctly\")\n",
    "        break\n",
    "    else:\n",
    "        print(\"Your Answer is wrong try again..\")"
   ]
  }
 ],
 "metadata": {
  "kernelspec": {
   "display_name": "Python 3 (ipykernel)",
   "language": "python",
   "name": "python3"
  },
  "language_info": {
   "codemirror_mode": {
    "name": "ipython",
    "version": 3
   },
   "file_extension": ".py",
   "mimetype": "text/x-python",
   "name": "python",
   "nbconvert_exporter": "python",
   "pygments_lexer": "ipython3",
   "version": "3.10.9"
  }
 },
 "nbformat": 4,
 "nbformat_minor": 5
}
